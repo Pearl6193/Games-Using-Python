{
 "cells": [
  {
   "cell_type": "code",
   "execution_count": 2,
   "metadata": {},
   "outputs": [],
   "source": [
    "from IPython.display import clear_output\n",
    "def display_board(board):\n",
    "    clear_output()\n",
    "    print(\"---|---|---\")\n",
    "    print(f\" {board[7]} | {board[8]} | {board[9]} \")\n",
    "    print(\"---|---|---\")\n",
    "    print(f\" {board[4]} | {board[5]} | {board[6]} \")\n",
    "    print(\"---|---|---\")\n",
    "    print(f\" {board[1]} | {board[2]} | {board[3]} \")\n",
    "    print(\"---|---|---\")"
   ]
  },
  {
   "cell_type": "code",
   "execution_count": 3,
   "metadata": {},
   "outputs": [
    {
     "name": "stdout",
     "output_type": "stream",
     "text": [
      "---|---|---\n",
      "   |   |   \n",
      "---|---|---\n",
      "   |   |   \n",
      "---|---|---\n",
      "   |   |   \n",
      "---|---|---\n"
     ]
    }
   ],
   "source": [
    "test_board =[\" \"]*10            #print(\"i\\n\"*100)\n",
    "display_board(test_board)"
   ]
  },
  {
   "cell_type": "code",
   "execution_count": 4,
   "metadata": {},
   "outputs": [],
   "source": [
    "def player_input():\n",
    "    '''\n",
    "    OUT PUT:(Player1_marker,Player2_marker)\n",
    "    '''\n",
    "    player1_marker=\"null\"\n",
    "    while player1_marker not in [\"X\",\"O\"]:\n",
    "        player1_marker = input(\"Choose a Marker bw X and O: \")\n",
    "        if (player1_marker ==\"X\"):\n",
    "            player2_marker = \"O\"\n",
    "        else:\n",
    "            player2_marker=\"X\"\n",
    "    return(player1_marker,player2_marker)   "
   ]
  },
  {
   "cell_type": "code",
   "execution_count": 5,
   "metadata": {
    "scrolled": true
   },
   "outputs": [
    {
     "name": "stdout",
     "output_type": "stream",
     "text": [
      "Choose a Marker bw X and O: X\n"
     ]
    }
   ],
   "source": [
    "player1_marker,player2_marker = player_input()"
   ]
  },
  {
   "cell_type": "code",
   "execution_count": 6,
   "metadata": {},
   "outputs": [
    {
     "data": {
      "text/plain": [
       "'O'"
      ]
     },
     "execution_count": 6,
     "metadata": {},
     "output_type": "execute_result"
    }
   ],
   "source": [
    "player2_marker"
   ]
  },
  {
   "cell_type": "code",
   "execution_count": 7,
   "metadata": {},
   "outputs": [],
   "source": [
    "def place_marker(board,marker,position):\n",
    "    for i in range(1,len(board)):                 #One Liner: board[position] = marker\n",
    "        if i==position:\n",
    "            board[i]=marker"
   ]
  },
  {
   "cell_type": "code",
   "execution_count": 8,
   "metadata": {},
   "outputs": [],
   "source": [
    "place_marker(test_board,player1_marker,1)"
   ]
  },
  {
   "cell_type": "code",
   "execution_count": 9,
   "metadata": {},
   "outputs": [
    {
     "data": {
      "text/plain": [
       "[' ', 'X', ' ', ' ', ' ', ' ', ' ', ' ', ' ', ' ']"
      ]
     },
     "execution_count": 9,
     "metadata": {},
     "output_type": "execute_result"
    }
   ],
   "source": [
    "test_board"
   ]
  },
  {
   "cell_type": "code",
   "execution_count": 10,
   "metadata": {},
   "outputs": [
    {
     "name": "stdout",
     "output_type": "stream",
     "text": [
      "---|---|---\n",
      "   |   |   \n",
      "---|---|---\n",
      "   |   |   \n",
      "---|---|---\n",
      " X |   |   \n",
      "---|---|---\n"
     ]
    }
   ],
   "source": [
    "display_board(test_board)"
   ]
  },
  {
   "cell_type": "code",
   "execution_count": 11,
   "metadata": {},
   "outputs": [],
   "source": [
    "def win_check(board,mark):\n",
    "    return ((board[1]==board[2]==board[3]==mark) or\n",
    "           (board[4]==board[5]==board[6]==mark) or\n",
    "           (board[7]==board[8]==board[9]==mark) or\n",
    "           (board[1]==board[4]==board[7]==mark) or\n",
    "           (board[2]==board[5]==board[8]==mark) or\n",
    "           (board[3]==board[6]==board[9]==mark) or\n",
    "           (board[1]==board[5]==board[9]==mark) or\n",
    "           (board[3]==board[5]==board[7]==mark))"
   ]
  },
  {
   "cell_type": "code",
   "execution_count": 12,
   "metadata": {},
   "outputs": [
    {
     "data": {
      "text/plain": [
       "False"
      ]
     },
     "execution_count": 12,
     "metadata": {},
     "output_type": "execute_result"
    }
   ],
   "source": [
    "win_check(test_board,\"X\")"
   ]
  },
  {
   "cell_type": "code",
   "execution_count": 13,
   "metadata": {},
   "outputs": [],
   "source": [
    "import random\n",
    "def who_goes_first():\n",
    "    i = random.randint(1,2)\n",
    "    if i == 1:\n",
    "        return \"Player1\"\n",
    "    else:\n",
    "        return \"Player2\""
   ]
  },
  {
   "cell_type": "code",
   "execution_count": 14,
   "metadata": {},
   "outputs": [
    {
     "data": {
      "text/plain": [
       "'Player2'"
      ]
     },
     "execution_count": 14,
     "metadata": {},
     "output_type": "execute_result"
    }
   ],
   "source": [
    "who_goes_first()"
   ]
  },
  {
   "cell_type": "code",
   "execution_count": 15,
   "metadata": {},
   "outputs": [],
   "source": [
    "def is_space_there(board,position):\n",
    "    return board[position]==\" \"\n",
    "        "
   ]
  },
  {
   "cell_type": "code",
   "execution_count": 16,
   "metadata": {},
   "outputs": [],
   "source": [
    "def is_board_full(board):\n",
    "    for i in range(1,10):\n",
    "        if board[i]==\" \":           # if is_space_there(board,i)\n",
    "            return False                   # return false\n",
    "    return True"
   ]
  },
  {
   "cell_type": "code",
   "execution_count": 17,
   "metadata": {},
   "outputs": [
    {
     "data": {
      "text/plain": [
       "False"
      ]
     },
     "execution_count": 17,
     "metadata": {},
     "output_type": "execute_result"
    }
   ],
   "source": [
    "is_board_full(test_board)"
   ]
  },
  {
   "cell_type": "code",
   "execution_count": 18,
   "metadata": {},
   "outputs": [],
   "source": [
    "def player_choice(board):\n",
    "    position = 0\n",
    "    while position not in range(1,10) or not is_space_there(board,position):\n",
    "        position = int(input(\"Enter the position of your marker: \"))\n",
    "    return position\n",
    "        #if is_space_there(board,position):\n",
    "            #return position\n",
    "        #else:\n",
    "            #position = 0"
   ]
  },
  {
   "cell_type": "code",
   "execution_count": 19,
   "metadata": {},
   "outputs": [],
   "source": [
    "def replay():\n",
    "    quit = input(\"Do you want to quit?Yes or No: \")\n",
    "    if quit == \"No\":\n",
    "        return True\n",
    "    else:\n",
    "        return False"
   ]
  },
  {
   "cell_type": "code",
   "execution_count": 26,
   "metadata": {
    "scrolled": false
   },
   "outputs": [
    {
     "name": "stdout",
     "output_type": "stream",
     "text": [
      "---|---|---\n",
      " O | X | O \n",
      "---|---|---\n",
      " O | X | X \n",
      "---|---|---\n",
      " X | O | O \n",
      "---|---|---\n",
      "It's a tie game\n",
      "Do you want to quit?Yes or No: Yes\n"
     ]
    }
   ],
   "source": [
    "# While loop to keep running the game\n",
    "print(\"Welcome to the Tic Tac Toe\")\n",
    "while True:\n",
    "    #play the game\n",
    "    #set everything up\n",
    "    board =[\" \"]*10\n",
    "    player1_marker,player2_marker = player_input()\n",
    "    turn = who_goes_first()\n",
    "    print(turn)\n",
    "    ready = input(\"Ready? Yes or No: \")\n",
    "    if ready == \"No\":\n",
    "            game_on = False\n",
    "    else:\n",
    "            game_on = True\n",
    "    \n",
    "    while game_on:\n",
    "            \n",
    "            \n",
    "           \n",
    "            #diplay_board(board)\n",
    "            #player1\n",
    "            if turn ==\"Player1\":\n",
    "                \n",
    "                display_board(board)\n",
    "                print(\"Player1's Turn\")\n",
    "                #choosing the marker\n",
    "                #player1_marker,player2marker = player_input()\n",
    "                position = player_choice(board)\n",
    "                place_marker(board,player1_marker,position)\n",
    "                #clear_output()\n",
    "                if win_check(board,player1_marker):\n",
    "                    display_board(board)\n",
    "                    print(\"Player1 has won\")\n",
    "                    #display_board(board)\n",
    "                    break\n",
    "                elif is_board_full(board):\n",
    "                    display_board(board)\n",
    "                    print(\"It's a tie game\")\n",
    "                    #display_board(board)\n",
    "                    break\n",
    "                else:\n",
    "                    turn = \"Player2\"\n",
    "                    \n",
    "            elif turn ==\"Player2\":\n",
    "                \n",
    "                display_board(board)\n",
    "                print(\"Player2's Turn\")\n",
    "                #choosing the marker\n",
    "                #player1_marker,player2marker = player_input()\n",
    "                position = player_choice(board)\n",
    "                place_marker(board,player2_marker,position)\n",
    "                #clear_output()\n",
    "                if win_check(board,player2_marker):\n",
    "                    display_board(board)\n",
    "                    print(\"Player2 has won\")\n",
    "                    #display_board(board)\n",
    "                    break\n",
    "                elif is_board_full(board):\n",
    "                    display_board(board)\n",
    "                    print(\"It's a tie game\")\n",
    "                    #display_board(board)\n",
    "                    break\n",
    "                else:\n",
    "                    turn = \"Player1\"\n",
    "                    \n",
    "            else:\n",
    "                pass\n",
    "        \n",
    "\n",
    "    if not replay():\n",
    "        break\n",
    "# Break out of the while loop on replay()"
   ]
  }
 ],
 "metadata": {
  "kernelspec": {
   "display_name": "Python 3",
   "language": "python",
   "name": "python3"
  },
  "language_info": {
   "codemirror_mode": {
    "name": "ipython",
    "version": 3
   },
   "file_extension": ".py",
   "mimetype": "text/x-python",
   "name": "python",
   "nbconvert_exporter": "python",
   "pygments_lexer": "ipython3",
   "version": "3.8.5"
  }
 },
 "nbformat": 4,
 "nbformat_minor": 4
}
